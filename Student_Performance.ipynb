{
 "cells": [
  {
   "cell_type": "markdown",
   "id": "b8ba7737",
   "metadata": {},
   "source": [
    "## Import Data and Packages"
   ]
  },
  {
   "cell_type": "code",
   "execution_count": 1,
   "id": "0a8b782f",
   "metadata": {},
   "outputs": [],
   "source": [
    "import numpy as np\n",
    "import pandas as pd\n",
    "import matplotlib.pyplot as plt\n",
    "import seaborn as sns"
   ]
  },
  {
   "cell_type": "markdown",
   "id": "ad4e7f8e",
   "metadata": {},
   "source": [
    "#### Import CSV data as Pandas Dataframe"
   ]
  },
  {
   "cell_type": "code",
   "execution_count": 2,
   "id": "ba0aabcc",
   "metadata": {},
   "outputs": [],
   "source": [
    "df = pd.read_csv('Complete_student_dataset.csv')"
   ]
  },
  {
   "cell_type": "markdown",
   "id": "f1e988f2",
   "metadata": {},
   "source": [
    "#### load first five records from dataset "
   ]
  },
  {
   "cell_type": "code",
   "execution_count": 3,
   "id": "b35ed7be",
   "metadata": {},
   "outputs": [
    {
     "data": {
      "text/html": [
       "<div>\n",
       "<style scoped>\n",
       "    .dataframe tbody tr th:only-of-type {\n",
       "        vertical-align: middle;\n",
       "    }\n",
       "\n",
       "    .dataframe tbody tr th {\n",
       "        vertical-align: top;\n",
       "    }\n",
       "\n",
       "    .dataframe thead th {\n",
       "        text-align: right;\n",
       "    }\n",
       "</style>\n",
       "<table border=\"1\" class=\"dataframe\">\n",
       "  <thead>\n",
       "    <tr style=\"text-align: right;\">\n",
       "      <th></th>\n",
       "      <th>Exam_Scores</th>\n",
       "      <th>Attendance</th>\n",
       "      <th>Study_Hours</th>\n",
       "      <th>Social_Activity</th>\n",
       "      <th>Gender</th>\n",
       "      <th>Homework_Completion</th>\n",
       "      <th>Tutoring_Hours</th>\n",
       "      <th>Extracurricular_Activities</th>\n",
       "      <th>Health_Score</th>\n",
       "      <th>Performance</th>\n",
       "    </tr>\n",
       "  </thead>\n",
       "  <tbody>\n",
       "    <tr>\n",
       "      <th>0</th>\n",
       "      <td>78</td>\n",
       "      <td>89</td>\n",
       "      <td>7.725720</td>\n",
       "      <td>66.0</td>\n",
       "      <td>Female</td>\n",
       "      <td>84</td>\n",
       "      <td>0.256777</td>\n",
       "      <td>Music</td>\n",
       "      <td>68.0</td>\n",
       "      <td>average</td>\n",
       "    </tr>\n",
       "    <tr>\n",
       "      <th>1</th>\n",
       "      <td>91</td>\n",
       "      <td>86</td>\n",
       "      <td>9.613415</td>\n",
       "      <td>50.0</td>\n",
       "      <td>Male</td>\n",
       "      <td>91</td>\n",
       "      <td>2.284873</td>\n",
       "      <td>Music</td>\n",
       "      <td>60.0</td>\n",
       "      <td>good</td>\n",
       "    </tr>\n",
       "    <tr>\n",
       "      <th>2</th>\n",
       "      <td>68</td>\n",
       "      <td>99</td>\n",
       "      <td>4.418243</td>\n",
       "      <td>96.0</td>\n",
       "      <td>Female</td>\n",
       "      <td>83</td>\n",
       "      <td>2.307290</td>\n",
       "      <td>Sports</td>\n",
       "      <td>61.0</td>\n",
       "      <td>average</td>\n",
       "    </tr>\n",
       "    <tr>\n",
       "      <th>3</th>\n",
       "      <td>54</td>\n",
       "      <td>86</td>\n",
       "      <td>4.932728</td>\n",
       "      <td>91.0</td>\n",
       "      <td>Male</td>\n",
       "      <td>79</td>\n",
       "      <td>3.803026</td>\n",
       "      <td>Debate</td>\n",
       "      <td>NaN</td>\n",
       "      <td>poor</td>\n",
       "    </tr>\n",
       "    <tr>\n",
       "      <th>4</th>\n",
       "      <td>82</td>\n",
       "      <td>95</td>\n",
       "      <td>1.866064</td>\n",
       "      <td>NaN</td>\n",
       "      <td>Male</td>\n",
       "      <td>62</td>\n",
       "      <td>1.539161</td>\n",
       "      <td>Sports</td>\n",
       "      <td>92.0</td>\n",
       "      <td>poor</td>\n",
       "    </tr>\n",
       "  </tbody>\n",
       "</table>\n",
       "</div>"
      ],
      "text/plain": [
       "   Exam_Scores  Attendance  Study_Hours  Social_Activity  Gender  \\\n",
       "0           78          89     7.725720             66.0  Female   \n",
       "1           91          86     9.613415             50.0    Male   \n",
       "2           68          99     4.418243             96.0  Female   \n",
       "3           54          86     4.932728             91.0    Male   \n",
       "4           82          95     1.866064              NaN    Male   \n",
       "\n",
       "   Homework_Completion  Tutoring_Hours Extracurricular_Activities  \\\n",
       "0                   84        0.256777                      Music   \n",
       "1                   91        2.284873                      Music   \n",
       "2                   83        2.307290                     Sports   \n",
       "3                   79        3.803026                     Debate   \n",
       "4                   62        1.539161                     Sports   \n",
       "\n",
       "   Health_Score Performance  \n",
       "0          68.0     average  \n",
       "1          60.0        good  \n",
       "2          61.0     average  \n",
       "3           NaN        poor  \n",
       "4          92.0        poor  "
      ]
     },
     "execution_count": 3,
     "metadata": {},
     "output_type": "execute_result"
    }
   ],
   "source": [
    "df.head()"
   ]
  },
  {
   "cell_type": "markdown",
   "id": "26430ed2",
   "metadata": {},
   "source": [
    "#### Shape of Dataset"
   ]
  },
  {
   "cell_type": "code",
   "execution_count": 4,
   "id": "64746720",
   "metadata": {},
   "outputs": [
    {
     "data": {
      "text/plain": [
       "(250, 10)"
      ]
     },
     "execution_count": 4,
     "metadata": {},
     "output_type": "execute_result"
    }
   ],
   "source": [
    "df.shape"
   ]
  },
  {
   "cell_type": "markdown",
   "id": "c1cee625",
   "metadata": {},
   "source": [
    "#### Describing the dataset by displaying basic statistics"
   ]
  },
  {
   "cell_type": "code",
   "execution_count": 5,
   "id": "fbe29d45",
   "metadata": {
    "scrolled": false
   },
   "outputs": [
    {
     "data": {
      "text/html": [
       "<div>\n",
       "<style scoped>\n",
       "    .dataframe tbody tr th:only-of-type {\n",
       "        vertical-align: middle;\n",
       "    }\n",
       "\n",
       "    .dataframe tbody tr th {\n",
       "        vertical-align: top;\n",
       "    }\n",
       "\n",
       "    .dataframe thead th {\n",
       "        text-align: right;\n",
       "    }\n",
       "</style>\n",
       "<table border=\"1\" class=\"dataframe\">\n",
       "  <thead>\n",
       "    <tr style=\"text-align: right;\">\n",
       "      <th></th>\n",
       "      <th>Exam_Scores</th>\n",
       "      <th>Attendance</th>\n",
       "      <th>Study_Hours</th>\n",
       "      <th>Social_Activity</th>\n",
       "      <th>Homework_Completion</th>\n",
       "      <th>Tutoring_Hours</th>\n",
       "      <th>Health_Score</th>\n",
       "    </tr>\n",
       "  </thead>\n",
       "  <tbody>\n",
       "    <tr>\n",
       "      <th>count</th>\n",
       "      <td>250.000000</td>\n",
       "      <td>250.000000</td>\n",
       "      <td>250.000000</td>\n",
       "      <td>238.000000</td>\n",
       "      <td>250.000000</td>\n",
       "      <td>250.000000</td>\n",
       "      <td>238.000000</td>\n",
       "    </tr>\n",
       "    <tr>\n",
       "      <th>mean</th>\n",
       "      <td>69.832000</td>\n",
       "      <td>84.608000</td>\n",
       "      <td>5.379290</td>\n",
       "      <td>48.970588</td>\n",
       "      <td>75.260000</td>\n",
       "      <td>2.541986</td>\n",
       "      <td>79.386555</td>\n",
       "    </tr>\n",
       "    <tr>\n",
       "      <th>std</th>\n",
       "      <td>17.411733</td>\n",
       "      <td>9.320182</td>\n",
       "      <td>2.543950</td>\n",
       "      <td>29.672815</td>\n",
       "      <td>14.423333</td>\n",
       "      <td>1.493026</td>\n",
       "      <td>11.174949</td>\n",
       "    </tr>\n",
       "    <tr>\n",
       "      <th>min</th>\n",
       "      <td>40.000000</td>\n",
       "      <td>70.000000</td>\n",
       "      <td>1.040869</td>\n",
       "      <td>0.000000</td>\n",
       "      <td>50.000000</td>\n",
       "      <td>0.025812</td>\n",
       "      <td>60.000000</td>\n",
       "    </tr>\n",
       "    <tr>\n",
       "      <th>25%</th>\n",
       "      <td>54.000000</td>\n",
       "      <td>76.000000</td>\n",
       "      <td>3.291859</td>\n",
       "      <td>23.250000</td>\n",
       "      <td>62.000000</td>\n",
       "      <td>1.213403</td>\n",
       "      <td>70.000000</td>\n",
       "    </tr>\n",
       "    <tr>\n",
       "      <th>50%</th>\n",
       "      <td>69.500000</td>\n",
       "      <td>86.000000</td>\n",
       "      <td>5.345501</td>\n",
       "      <td>45.500000</td>\n",
       "      <td>77.000000</td>\n",
       "      <td>2.539985</td>\n",
       "      <td>80.000000</td>\n",
       "    </tr>\n",
       "    <tr>\n",
       "      <th>75%</th>\n",
       "      <td>83.000000</td>\n",
       "      <td>93.000000</td>\n",
       "      <td>7.332973</td>\n",
       "      <td>77.750000</td>\n",
       "      <td>87.000000</td>\n",
       "      <td>3.836413</td>\n",
       "      <td>89.000000</td>\n",
       "    </tr>\n",
       "    <tr>\n",
       "      <th>max</th>\n",
       "      <td>99.000000</td>\n",
       "      <td>99.000000</td>\n",
       "      <td>9.969914</td>\n",
       "      <td>99.000000</td>\n",
       "      <td>99.000000</td>\n",
       "      <td>4.994866</td>\n",
       "      <td>99.000000</td>\n",
       "    </tr>\n",
       "  </tbody>\n",
       "</table>\n",
       "</div>"
      ],
      "text/plain": [
       "       Exam_Scores  Attendance  Study_Hours  Social_Activity  \\\n",
       "count   250.000000  250.000000   250.000000       238.000000   \n",
       "mean     69.832000   84.608000     5.379290        48.970588   \n",
       "std      17.411733    9.320182     2.543950        29.672815   \n",
       "min      40.000000   70.000000     1.040869         0.000000   \n",
       "25%      54.000000   76.000000     3.291859        23.250000   \n",
       "50%      69.500000   86.000000     5.345501        45.500000   \n",
       "75%      83.000000   93.000000     7.332973        77.750000   \n",
       "max      99.000000   99.000000     9.969914        99.000000   \n",
       "\n",
       "       Homework_Completion  Tutoring_Hours  Health_Score  \n",
       "count           250.000000      250.000000    238.000000  \n",
       "mean             75.260000        2.541986     79.386555  \n",
       "std              14.423333        1.493026     11.174949  \n",
       "min              50.000000        0.025812     60.000000  \n",
       "25%              62.000000        1.213403     70.000000  \n",
       "50%              77.000000        2.539985     80.000000  \n",
       "75%              87.000000        3.836413     89.000000  \n",
       "max              99.000000        4.994866     99.000000  "
      ]
     },
     "execution_count": 5,
     "metadata": {},
     "output_type": "execute_result"
    }
   ],
   "source": [
    "df.describe()"
   ]
  },
  {
   "cell_type": "markdown",
   "id": "df23db5e",
   "metadata": {},
   "source": [
    "####  Checking the number of unique values of each column"
   ]
  },
  {
   "cell_type": "code",
   "execution_count": 6,
   "id": "8066195b",
   "metadata": {},
   "outputs": [
    {
     "data": {
      "text/plain": [
       "Exam_Scores                    58\n",
       "Attendance                     30\n",
       "Study_Hours                   250\n",
       "Social_Activity                93\n",
       "Gender                          2\n",
       "Homework_Completion            49\n",
       "Tutoring_Hours                250\n",
       "Extracurricular_Activities      4\n",
       "Health_Score                   40\n",
       "Performance                     3\n",
       "dtype: int64"
      ]
     },
     "execution_count": 6,
     "metadata": {},
     "output_type": "execute_result"
    }
   ],
   "source": [
    "df.nunique()"
   ]
  },
  {
   "cell_type": "markdown",
   "id": "3b7a3071",
   "metadata": {},
   "source": [
    "#### Check data types  - Check Null values and dtype"
   ]
  },
  {
   "cell_type": "code",
   "execution_count": 7,
   "id": "71e386d9",
   "metadata": {},
   "outputs": [
    {
     "name": "stdout",
     "output_type": "stream",
     "text": [
      "<class 'pandas.core.frame.DataFrame'>\n",
      "RangeIndex: 250 entries, 0 to 249\n",
      "Data columns (total 10 columns):\n",
      " #   Column                      Non-Null Count  Dtype  \n",
      "---  ------                      --------------  -----  \n",
      " 0   Exam_Scores                 250 non-null    int64  \n",
      " 1   Attendance                  250 non-null    int64  \n",
      " 2   Study_Hours                 250 non-null    float64\n",
      " 3   Social_Activity             238 non-null    float64\n",
      " 4   Gender                      250 non-null    object \n",
      " 5   Homework_Completion         250 non-null    int64  \n",
      " 6   Tutoring_Hours              250 non-null    float64\n",
      " 7   Extracurricular_Activities  250 non-null    object \n",
      " 8   Health_Score                238 non-null    float64\n",
      " 9   Performance                 250 non-null    object \n",
      "dtypes: float64(4), int64(3), object(3)\n",
      "memory usage: 19.7+ KB\n"
     ]
    }
   ],
   "source": [
    "df.info()"
   ]
  },
  {
   "cell_type": "markdown",
   "id": "e0b3b332",
   "metadata": {},
   "source": [
    "Here null values are present on Social_Activity and Health_Score columns. So we should deal with them."
   ]
  },
  {
   "cell_type": "markdown",
   "id": "dffca860",
   "metadata": {},
   "source": [
    "#### Checking total number of null values "
   ]
  },
  {
   "cell_type": "code",
   "execution_count": 8,
   "id": "8027620c",
   "metadata": {},
   "outputs": [
    {
     "data": {
      "text/plain": [
       "Exam_Scores                    0\n",
       "Attendance                     0\n",
       "Study_Hours                    0\n",
       "Social_Activity               12\n",
       "Gender                         0\n",
       "Homework_Completion            0\n",
       "Tutoring_Hours                 0\n",
       "Extracurricular_Activities     0\n",
       "Health_Score                  12\n",
       "Performance                    0\n",
       "dtype: int64"
      ]
     },
     "execution_count": 8,
     "metadata": {},
     "output_type": "execute_result"
    }
   ],
   "source": [
    "df.isnull().sum()"
   ]
  },
  {
   "cell_type": "markdown",
   "id": "6a3b0275",
   "metadata": {},
   "source": [
    "#### Handling missing data using mean function"
   ]
  },
  {
   "cell_type": "code",
   "execution_count": 9,
   "id": "711d5c73",
   "metadata": {},
   "outputs": [],
   "source": [
    "df['Social_Activity'].fillna(df['Social_Activity'].mean(), inplace = True)\n",
    "df['Health_Score'].fillna(df['Health_Score'].mean(), inplace = True)"
   ]
  },
  {
   "cell_type": "code",
   "execution_count": 10,
   "id": "bf422c7e",
   "metadata": {},
   "outputs": [
    {
     "data": {
      "text/plain": [
       "Exam_Scores                   0\n",
       "Attendance                    0\n",
       "Study_Hours                   0\n",
       "Social_Activity               0\n",
       "Gender                        0\n",
       "Homework_Completion           0\n",
       "Tutoring_Hours                0\n",
       "Extracurricular_Activities    0\n",
       "Health_Score                  0\n",
       "Performance                   0\n",
       "dtype: int64"
      ]
     },
     "execution_count": 10,
     "metadata": {},
     "output_type": "execute_result"
    }
   ],
   "source": [
    "df.isnull().sum()"
   ]
  },
  {
   "cell_type": "markdown",
   "id": "812eb735",
   "metadata": {},
   "source": [
    "Here we have replaced the null values with their appropriate mean values"
   ]
  },
  {
   "cell_type": "code",
   "execution_count": 11,
   "id": "b5c06785",
   "metadata": {
    "scrolled": true
   },
   "outputs": [
    {
     "data": {
      "text/html": [
       "<div>\n",
       "<style scoped>\n",
       "    .dataframe tbody tr th:only-of-type {\n",
       "        vertical-align: middle;\n",
       "    }\n",
       "\n",
       "    .dataframe tbody tr th {\n",
       "        vertical-align: top;\n",
       "    }\n",
       "\n",
       "    .dataframe thead th {\n",
       "        text-align: right;\n",
       "    }\n",
       "</style>\n",
       "<table border=\"1\" class=\"dataframe\">\n",
       "  <thead>\n",
       "    <tr style=\"text-align: right;\">\n",
       "      <th></th>\n",
       "      <th>Exam_Scores</th>\n",
       "      <th>Attendance</th>\n",
       "      <th>Study_Hours</th>\n",
       "      <th>Social_Activity</th>\n",
       "      <th>Gender</th>\n",
       "      <th>Homework_Completion</th>\n",
       "      <th>Tutoring_Hours</th>\n",
       "      <th>Extracurricular_Activities</th>\n",
       "      <th>Health_Score</th>\n",
       "      <th>Performance</th>\n",
       "    </tr>\n",
       "  </thead>\n",
       "  <tbody>\n",
       "    <tr>\n",
       "      <th>0</th>\n",
       "      <td>78</td>\n",
       "      <td>89</td>\n",
       "      <td>7.725720</td>\n",
       "      <td>66.000000</td>\n",
       "      <td>Female</td>\n",
       "      <td>84</td>\n",
       "      <td>0.256777</td>\n",
       "      <td>Music</td>\n",
       "      <td>68.000000</td>\n",
       "      <td>average</td>\n",
       "    </tr>\n",
       "    <tr>\n",
       "      <th>1</th>\n",
       "      <td>91</td>\n",
       "      <td>86</td>\n",
       "      <td>9.613415</td>\n",
       "      <td>50.000000</td>\n",
       "      <td>Male</td>\n",
       "      <td>91</td>\n",
       "      <td>2.284873</td>\n",
       "      <td>Music</td>\n",
       "      <td>60.000000</td>\n",
       "      <td>good</td>\n",
       "    </tr>\n",
       "    <tr>\n",
       "      <th>2</th>\n",
       "      <td>68</td>\n",
       "      <td>99</td>\n",
       "      <td>4.418243</td>\n",
       "      <td>96.000000</td>\n",
       "      <td>Female</td>\n",
       "      <td>83</td>\n",
       "      <td>2.307290</td>\n",
       "      <td>Sports</td>\n",
       "      <td>61.000000</td>\n",
       "      <td>average</td>\n",
       "    </tr>\n",
       "    <tr>\n",
       "      <th>3</th>\n",
       "      <td>54</td>\n",
       "      <td>86</td>\n",
       "      <td>4.932728</td>\n",
       "      <td>91.000000</td>\n",
       "      <td>Male</td>\n",
       "      <td>79</td>\n",
       "      <td>3.803026</td>\n",
       "      <td>Debate</td>\n",
       "      <td>79.386555</td>\n",
       "      <td>poor</td>\n",
       "    </tr>\n",
       "    <tr>\n",
       "      <th>4</th>\n",
       "      <td>82</td>\n",
       "      <td>95</td>\n",
       "      <td>1.866064</td>\n",
       "      <td>48.970588</td>\n",
       "      <td>Male</td>\n",
       "      <td>62</td>\n",
       "      <td>1.539161</td>\n",
       "      <td>Sports</td>\n",
       "      <td>92.000000</td>\n",
       "      <td>poor</td>\n",
       "    </tr>\n",
       "  </tbody>\n",
       "</table>\n",
       "</div>"
      ],
      "text/plain": [
       "   Exam_Scores  Attendance  Study_Hours  Social_Activity  Gender  \\\n",
       "0           78          89     7.725720        66.000000  Female   \n",
       "1           91          86     9.613415        50.000000    Male   \n",
       "2           68          99     4.418243        96.000000  Female   \n",
       "3           54          86     4.932728        91.000000    Male   \n",
       "4           82          95     1.866064        48.970588    Male   \n",
       "\n",
       "   Homework_Completion  Tutoring_Hours Extracurricular_Activities  \\\n",
       "0                   84        0.256777                      Music   \n",
       "1                   91        2.284873                      Music   \n",
       "2                   83        2.307290                     Sports   \n",
       "3                   79        3.803026                     Debate   \n",
       "4                   62        1.539161                     Sports   \n",
       "\n",
       "   Health_Score Performance  \n",
       "0     68.000000     average  \n",
       "1     60.000000        good  \n",
       "2     61.000000     average  \n",
       "3     79.386555        poor  \n",
       "4     92.000000        poor  "
      ]
     },
     "execution_count": 11,
     "metadata": {},
     "output_type": "execute_result"
    }
   ],
   "source": [
    "df.head()"
   ]
  },
  {
   "cell_type": "markdown",
   "id": "995eb87d",
   "metadata": {},
   "source": [
    "## Box Plot for visualizing Exam Scores by Performance "
   ]
  },
  {
   "cell_type": "code",
   "execution_count": 12,
   "id": "a4d23931",
   "metadata": {},
   "outputs": [
    {
     "data": {
      "image/png": "[encoded data removed]",
      "text/plain": [
       "<Figure size 1000x600 with 1 Axes>"
      ]
     },
     "metadata": {},
     "output_type": "display_data"
    }
   ],
   "source": [
    "#visualizing the data\n",
    "plt.figure(figsize = (10,6))\n",
    "sns.boxplot(x = 'Performance', y ='Exam_Scores', data = df)\n",
    "plt.title('Exam Scores by Performance')\n",
    "plt.show()"
   ]
  },
  {
   "cell_type": "markdown",
   "id": "2bf7ad07",
   "metadata": {},
   "source": [
    "## Bar Chart for Study Hours by Performance"
   ]
  },
  {
   "cell_type": "code",
   "execution_count": 13,
   "id": "3bd7c33f",
   "metadata": {},
   "outputs": [
    {
     "data": {
      "image/png": "[encoded data removed]",
      "text/plain": [
       "<Figure size 1000x600 with 1 Axes>"
      ]
     },
     "metadata": {},
     "output_type": "display_data"
    }
   ],
   "source": [
    "plt.figure(figsize = (10,6))\n",
    "sns.barplot(x = 'Performance', y = 'Study_Hours', data = df)\n",
    "plt.title('Study Hours of Students by Performance')\n",
    "plt.show()"
   ]
  },
  {
   "cell_type": "markdown",
   "id": "bb8111df",
   "metadata": {},
   "source": [
    "## Count Plot for Extracurricular Activities by Performance"
   ]
  },
  {
   "cell_type": "code",
   "execution_count": 14,
   "id": "ffb93c5c",
   "metadata": {},
   "outputs": [
    {
     "data": {
      "image/png": "[encoded data removed]",
      "text/plain": [
       "<Figure size 1200x600 with 1 Axes>"
      ]
     },
     "metadata": {},
     "output_type": "display_data"
    }
   ],
   "source": [
    "plt.figure(figsize = (12, 6))\n",
    "sns.countplot(x = 'Extracurricular_Activities', hue = 'Performance', data = df)\n",
    "plt.title('Extracurricular Activities by Performance')\n",
    "plt.show()"
   ]
  },
  {
   "cell_type": "markdown",
   "id": "9fb5e6d8",
   "metadata": {},
   "source": [
    "## Machine Learning Model Creation "
   ]
  },
  {
   "cell_type": "markdown",
   "id": "7cc19d33",
   "metadata": {},
   "source": [
    "#### Convert Categorical Variables into Numerical Variables Using Label Encoder"
   ]
  },
  {
   "cell_type": "code",
   "execution_count": 15,
   "id": "37663706",
   "metadata": {},
   "outputs": [],
   "source": [
    "from sklearn.preprocessing import LabelEncoder\n",
    "\n",
    "# Encode categorical variables\n",
    "le = LabelEncoder()\n",
    "df['Gender'] = le.fit_transform(df['Gender'])\n",
    "df = pd.get_dummies(df, columns=['Extracurricular_Activities'])"
   ]
  },
  {
   "cell_type": "code",
   "execution_count": 16,
   "id": "c39262db",
   "metadata": {
    "scrolled": true
   },
   "outputs": [
    {
     "data": {
      "text/html": [
       "<div>\n",
       "<style scoped>\n",
       "    .dataframe tbody tr th:only-of-type {\n",
       "        vertical-align: middle;\n",
       "    }\n",
       "\n",
       "    .dataframe tbody tr th {\n",
       "        vertical-align: top;\n",
       "    }\n",
       "\n",
       "    .dataframe thead th {\n",
       "        text-align: right;\n",
       "    }\n",
       "</style>\n",
       "<table border=\"1\" class=\"dataframe\">\n",
       "  <thead>\n",
       "    <tr style=\"text-align: right;\">\n",
       "      <th></th>\n",
       "      <th>Exam_Scores</th>\n",
       "      <th>Attendance</th>\n",
       "      <th>Study_Hours</th>\n",
       "      <th>Social_Activity</th>\n",
       "      <th>Gender</th>\n",
       "      <th>Homework_Completion</th>\n",
       "      <th>Tutoring_Hours</th>\n",
       "      <th>Health_Score</th>\n",
       "      <th>Performance</th>\n",
       "      <th>Extracurricular_Activities_Debate</th>\n",
       "      <th>Extracurricular_Activities_Drama</th>\n",
       "      <th>Extracurricular_Activities_Music</th>\n",
       "      <th>Extracurricular_Activities_Sports</th>\n",
       "    </tr>\n",
       "  </thead>\n",
       "  <tbody>\n",
       "    <tr>\n",
       "      <th>0</th>\n",
       "      <td>78</td>\n",
       "      <td>89</td>\n",
       "      <td>7.725720</td>\n",
       "      <td>66.000000</td>\n",
       "      <td>0</td>\n",
       "      <td>84</td>\n",
       "      <td>0.256777</td>\n",
       "      <td>68.000000</td>\n",
       "      <td>average</td>\n",
       "      <td>0</td>\n",
       "      <td>0</td>\n",
       "      <td>1</td>\n",
       "      <td>0</td>\n",
       "    </tr>\n",
       "    <tr>\n",
       "      <th>1</th>\n",
       "      <td>91</td>\n",
       "      <td>86</td>\n",
       "      <td>9.613415</td>\n",
       "      <td>50.000000</td>\n",
       "      <td>1</td>\n",
       "      <td>91</td>\n",
       "      <td>2.284873</td>\n",
       "      <td>60.000000</td>\n",
       "      <td>good</td>\n",
       "      <td>0</td>\n",
       "      <td>0</td>\n",
       "      <td>1</td>\n",
       "      <td>0</td>\n",
       "    </tr>\n",
       "    <tr>\n",
       "      <th>2</th>\n",
       "      <td>68</td>\n",
       "      <td>99</td>\n",
       "      <td>4.418243</td>\n",
       "      <td>96.000000</td>\n",
       "      <td>0</td>\n",
       "      <td>83</td>\n",
       "      <td>2.307290</td>\n",
       "      <td>61.000000</td>\n",
       "      <td>average</td>\n",
       "      <td>0</td>\n",
       "      <td>0</td>\n",
       "      <td>0</td>\n",
       "      <td>1</td>\n",
       "    </tr>\n",
       "    <tr>\n",
       "      <th>3</th>\n",
       "      <td>54</td>\n",
       "      <td>86</td>\n",
       "      <td>4.932728</td>\n",
       "      <td>91.000000</td>\n",
       "      <td>1</td>\n",
       "      <td>79</td>\n",
       "      <td>3.803026</td>\n",
       "      <td>79.386555</td>\n",
       "      <td>poor</td>\n",
       "      <td>1</td>\n",
       "      <td>0</td>\n",
       "      <td>0</td>\n",
       "      <td>0</td>\n",
       "    </tr>\n",
       "    <tr>\n",
       "      <th>4</th>\n",
       "      <td>82</td>\n",
       "      <td>95</td>\n",
       "      <td>1.866064</td>\n",
       "      <td>48.970588</td>\n",
       "      <td>1</td>\n",
       "      <td>62</td>\n",
       "      <td>1.539161</td>\n",
       "      <td>92.000000</td>\n",
       "      <td>poor</td>\n",
       "      <td>0</td>\n",
       "      <td>0</td>\n",
       "      <td>0</td>\n",
       "      <td>1</td>\n",
       "    </tr>\n",
       "  </tbody>\n",
       "</table>\n",
       "</div>"
      ],
      "text/plain": [
       "   Exam_Scores  Attendance  Study_Hours  Social_Activity  Gender  \\\n",
       "0           78          89     7.725720        66.000000       0   \n",
       "1           91          86     9.613415        50.000000       1   \n",
       "2           68          99     4.418243        96.000000       0   \n",
       "3           54          86     4.932728        91.000000       1   \n",
       "4           82          95     1.866064        48.970588       1   \n",
       "\n",
       "   Homework_Completion  Tutoring_Hours  Health_Score Performance  \\\n",
       "0                   84        0.256777     68.000000     average   \n",
       "1                   91        2.284873     60.000000        good   \n",
       "2                   83        2.307290     61.000000     average   \n",
       "3                   79        3.803026     79.386555        poor   \n",
       "4                   62        1.539161     92.000000        poor   \n",
       "\n",
       "   Extracurricular_Activities_Debate  Extracurricular_Activities_Drama  \\\n",
       "0                                  0                                 0   \n",
       "1                                  0                                 0   \n",
       "2                                  0                                 0   \n",
       "3                                  1                                 0   \n",
       "4                                  0                                 0   \n",
       "\n",
       "   Extracurricular_Activities_Music  Extracurricular_Activities_Sports  \n",
       "0                                 1                                  0  \n",
       "1                                 1                                  0  \n",
       "2                                 0                                  1  \n",
       "3                                 0                                  0  \n",
       "4                                 0                                  1  "
      ]
     },
     "execution_count": 16,
     "metadata": {},
     "output_type": "execute_result"
    }
   ],
   "source": [
    "df.head()"
   ]
  },
  {
   "cell_type": "markdown",
   "id": "301903d7",
   "metadata": {},
   "source": [
    "Here we have changed the categorical data in Gender and Extracurricular_Activities columns into numerical data. "
   ]
  },
  {
   "cell_type": "markdown",
   "id": "3375e4bc",
   "metadata": {},
   "source": [
    "#### Training the Model using Random Forest Classifier"
   ]
  },
  {
   "cell_type": "code",
   "execution_count": 18,
   "id": "f87ef515",
   "metadata": {},
   "outputs": [],
   "source": [
    "from sklearn.model_selection import train_test_split\n",
    "from sklearn.ensemble import RandomForestClassifier\n",
    "from sklearn.metrics import accuracy_score, classification_report"
   ]
  },
  {
   "cell_type": "code",
   "execution_count": 41,
   "id": "76082679",
   "metadata": {},
   "outputs": [],
   "source": [
    "#spliting the data into independent variable and dependent variable\n",
    "X = df.drop('Performance', axis = 1) # X values will drop performance column and return other columns\n",
    "y = df['Performance']"
   ]
  },
  {
   "cell_type": "code",
   "execution_count": 25,
   "id": "dce95604",
   "metadata": {},
   "outputs": [
    {
     "data": {
      "text/html": [
       "<div>\n",
       "<style scoped>\n",
       "    .dataframe tbody tr th:only-of-type {\n",
       "        vertical-align: middle;\n",
       "    }\n",
       "\n",
       "    .dataframe tbody tr th {\n",
       "        vertical-align: top;\n",
       "    }\n",
       "\n",
       "    .dataframe thead th {\n",
       "        text-align: right;\n",
       "    }\n",
       "</style>\n",
       "<table border=\"1\" class=\"dataframe\">\n",
       "  <thead>\n",
       "    <tr style=\"text-align: right;\">\n",
       "      <th></th>\n",
       "      <th>Exam_Scores</th>\n",
       "      <th>Attendance</th>\n",
       "      <th>Study_Hours</th>\n",
       "      <th>Social_Activity</th>\n",
       "      <th>Gender</th>\n",
       "      <th>Homework_Completion</th>\n",
       "      <th>Tutoring_Hours</th>\n",
       "      <th>Health_Score</th>\n",
       "      <th>Extracurricular_Activities_Debate</th>\n",
       "      <th>Extracurricular_Activities_Drama</th>\n",
       "      <th>Extracurricular_Activities_Music</th>\n",
       "      <th>Extracurricular_Activities_Sports</th>\n",
       "    </tr>\n",
       "  </thead>\n",
       "  <tbody>\n",
       "    <tr>\n",
       "      <th>0</th>\n",
       "      <td>78</td>\n",
       "      <td>89</td>\n",
       "      <td>7.725720</td>\n",
       "      <td>66.000000</td>\n",
       "      <td>0</td>\n",
       "      <td>84</td>\n",
       "      <td>0.256777</td>\n",
       "      <td>68.000000</td>\n",
       "      <td>0</td>\n",
       "      <td>0</td>\n",
       "      <td>1</td>\n",
       "      <td>0</td>\n",
       "    </tr>\n",
       "    <tr>\n",
       "      <th>1</th>\n",
       "      <td>91</td>\n",
       "      <td>86</td>\n",
       "      <td>9.613415</td>\n",
       "      <td>50.000000</td>\n",
       "      <td>1</td>\n",
       "      <td>91</td>\n",
       "      <td>2.284873</td>\n",
       "      <td>60.000000</td>\n",
       "      <td>0</td>\n",
       "      <td>0</td>\n",
       "      <td>1</td>\n",
       "      <td>0</td>\n",
       "    </tr>\n",
       "    <tr>\n",
       "      <th>2</th>\n",
       "      <td>68</td>\n",
       "      <td>99</td>\n",
       "      <td>4.418243</td>\n",
       "      <td>96.000000</td>\n",
       "      <td>0</td>\n",
       "      <td>83</td>\n",
       "      <td>2.307290</td>\n",
       "      <td>61.000000</td>\n",
       "      <td>0</td>\n",
       "      <td>0</td>\n",
       "      <td>0</td>\n",
       "      <td>1</td>\n",
       "    </tr>\n",
       "    <tr>\n",
       "      <th>3</th>\n",
       "      <td>54</td>\n",
       "      <td>86</td>\n",
       "      <td>4.932728</td>\n",
       "      <td>91.000000</td>\n",
       "      <td>1</td>\n",
       "      <td>79</td>\n",
       "      <td>3.803026</td>\n",
       "      <td>79.386555</td>\n",
       "      <td>1</td>\n",
       "      <td>0</td>\n",
       "      <td>0</td>\n",
       "      <td>0</td>\n",
       "    </tr>\n",
       "    <tr>\n",
       "      <th>4</th>\n",
       "      <td>82</td>\n",
       "      <td>95</td>\n",
       "      <td>1.866064</td>\n",
       "      <td>48.970588</td>\n",
       "      <td>1</td>\n",
       "      <td>62</td>\n",
       "      <td>1.539161</td>\n",
       "      <td>92.000000</td>\n",
       "      <td>0</td>\n",
       "      <td>0</td>\n",
       "      <td>0</td>\n",
       "      <td>1</td>\n",
       "    </tr>\n",
       "  </tbody>\n",
       "</table>\n",
       "</div>"
      ],
      "text/plain": [
       "   Exam_Scores  Attendance  Study_Hours  Social_Activity  Gender  \\\n",
       "0           78          89     7.725720        66.000000       0   \n",
       "1           91          86     9.613415        50.000000       1   \n",
       "2           68          99     4.418243        96.000000       0   \n",
       "3           54          86     4.932728        91.000000       1   \n",
       "4           82          95     1.866064        48.970588       1   \n",
       "\n",
       "   Homework_Completion  Tutoring_Hours  Health_Score  \\\n",
       "0                   84        0.256777     68.000000   \n",
       "1                   91        2.284873     60.000000   \n",
       "2                   83        2.307290     61.000000   \n",
       "3                   79        3.803026     79.386555   \n",
       "4                   62        1.539161     92.000000   \n",
       "\n",
       "   Extracurricular_Activities_Debate  Extracurricular_Activities_Drama  \\\n",
       "0                                  0                                 0   \n",
       "1                                  0                                 0   \n",
       "2                                  0                                 0   \n",
       "3                                  1                                 0   \n",
       "4                                  0                                 0   \n",
       "\n",
       "   Extracurricular_Activities_Music  Extracurricular_Activities_Sports  \n",
       "0                                 1                                  0  \n",
       "1                                 1                                  0  \n",
       "2                                 0                                  1  \n",
       "3                                 0                                  0  \n",
       "4                                 0                                  1  "
      ]
     },
     "execution_count": 25,
     "metadata": {},
     "output_type": "execute_result"
    }
   ],
   "source": [
    "X.head()"
   ]
  },
  {
   "cell_type": "code",
   "execution_count": 26,
   "id": "e606f38f",
   "metadata": {},
   "outputs": [
    {
     "data": {
      "text/plain": [
       "0    average\n",
       "1       good\n",
       "2    average\n",
       "3       poor\n",
       "4       poor\n",
       "Name: Performance, dtype: object"
      ]
     },
     "execution_count": 26,
     "metadata": {},
     "output_type": "execute_result"
    }
   ],
   "source": [
    "y.head()"
   ]
  },
  {
   "cell_type": "markdown",
   "id": "5d8e80a0",
   "metadata": {},
   "source": [
    "So here we got dependent variable and independent variables for training"
   ]
  },
  {
   "cell_type": "code",
   "execution_count": 27,
   "id": "ead5dab6",
   "metadata": {},
   "outputs": [
    {
     "data": {
      "text/plain": [
       "RandomForestClassifier()"
      ]
     },
     "execution_count": 27,
     "metadata": {},
     "output_type": "execute_result"
    }
   ],
   "source": [
    "#Spliting dataset into training and testing\n",
    "X_train, X_test, y_train, y_test = train_test_split(X, y, test_size = 0.2, random_state = 42)\n",
    "\n",
    "#Using Random Forest Classifier\n",
    "model = RandomForestClassifier()\n",
    "model.fit(X_train, y_train)"
   ]
  },
  {
   "cell_type": "markdown",
   "id": "b0be82c7",
   "metadata": {},
   "source": [
    "#### Predicting the test set "
   ]
  },
  {
   "cell_type": "code",
   "execution_count": 28,
   "id": "83b28df9",
   "metadata": {},
   "outputs": [],
   "source": [
    "y_pred = model.predict(X_test)"
   ]
  },
  {
   "cell_type": "markdown",
   "id": "35619dbe",
   "metadata": {},
   "source": [
    "#### Evaluating the Model and Finding Accuracy"
   ]
  },
  {
   "cell_type": "code",
   "execution_count": 33,
   "id": "b0b3ab50",
   "metadata": {},
   "outputs": [
    {
     "name": "stdout",
     "output_type": "stream",
     "text": [
      "Accuracy of the Model is : 0.84\n"
     ]
    }
   ],
   "source": [
    "accuracy = accuracy_score(y_test, y_pred)\n",
    "print(\"Accuracy of the Model is :\", accuracy)"
   ]
  },
  {
   "cell_type": "markdown",
   "id": "d6390fdc",
   "metadata": {},
   "source": [
    "#### Printing the Classification Report "
   ]
  },
  {
   "cell_type": "code",
   "execution_count": 34,
   "id": "e96c724d",
   "metadata": {
    "scrolled": true
   },
   "outputs": [
    {
     "name": "stdout",
     "output_type": "stream",
     "text": [
      "              precision    recall  f1-score   support\n",
      "\n",
      "     average       0.92      0.63      0.75        19\n",
      "        good       0.00      0.00      0.00         1\n",
      "        poor       0.83      1.00      0.91        30\n",
      "\n",
      "    accuracy                           0.84        50\n",
      "   macro avg       0.59      0.54      0.55        50\n",
      "weighted avg       0.85      0.84      0.83        50\n",
      "\n"
     ]
    }
   ],
   "source": [
    "print(classification_report(y_test, y_pred))"
   ]
  }
 ],
 "metadata": {
  "kernelspec": {
   "display_name": "Python 3 (ipykernel)",
   "language": "python",
   "name": "python3"
  },
  "language_info": {
   "codemirror_mode": {
    "name": "ipython",
    "version": 3
   },
   "file_extension": ".py",
   "mimetype": "text/x-python",
   "name": "python",
   "nbconvert_exporter": "python",
   "pygments_lexer": "ipython3",
   "version": "3.9.13"
  }
 },
 "nbformat": 4,
 "nbformat_minor": 5
}
